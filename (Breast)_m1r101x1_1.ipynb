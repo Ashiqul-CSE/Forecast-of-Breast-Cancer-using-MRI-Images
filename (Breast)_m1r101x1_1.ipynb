{
  "nbformat": 4,
  "nbformat_minor": 0,
  "metadata": {
    "accelerator": "GPU",
    "colab": {
      "name": "(Breast) m1r101x1*1.ipynb",
      "provenance": [],
      "collapsed_sections": []
    },
    "kernelspec": {
      "display_name": "Python 3",
      "name": "python3"
    },
    "language_info": {
      "name": "python"
    }
  },
  "cells": [
    {
      "cell_type": "code",
      "metadata": {
        "colab": {
          "base_uri": "https://localhost:8080/"
        },
        "id": "IdQ7dWD6gRaF",
        "outputId": "4d678deb-5fa8-4802-9edc-009d3a39074d"
      },
      "source": [
        "cd drive/MyDrive/Kaggle/"
      ],
      "execution_count": null,
      "outputs": [
        {
          "output_type": "stream",
          "text": [
            "/content/drive/MyDrive/Kaggle\n"
          ],
          "name": "stdout"
        }
      ]
    },
    {
      "cell_type": "code",
      "metadata": {
        "colab": {
          "base_uri": "https://localhost:8080/"
        },
        "id": "R8uEoTAtgTcL",
        "outputId": "12632a55-b8fe-483e-8133-6914bf9fac08"
      },
      "source": [
        "!pip install -q kaggle\n",
        "!mkdir -p ~/.kaggle\n",
        "!cp kaggle.json ~/.kaggle/\n",
        "!ls ~/.kaggle\n",
        "!chmod 600 /root/.kaggle/kaggle.json\n",
        "\n",
        "\n",
        "!kaggle datasets download -d iashiqul/breast-cancer -p /content/drive/MyDrive/Kaggle"
      ],
      "execution_count": null,
      "outputs": [
        {
          "output_type": "stream",
          "text": [
            "kaggle.json\n",
            "Downloading breast-cancer.zip to /content/drive/MyDrive/Kaggle\n",
            " 99% 795M/803M [00:07<00:00, 134MB/s]\n",
            "100% 803M/803M [00:07<00:00, 118MB/s]\n"
          ],
          "name": "stdout"
        }
      ]
    },
    {
      "cell_type": "code",
      "metadata": {
        "id": "-DlYnH2XgayT"
      },
      "source": [
        "!unzip -uq \"/content/drive/MyDrive/Kaggle/breast-cancer.zip\" -d \"/content/drive/MyDrive/Kaggle\" "
      ],
      "execution_count": null,
      "outputs": []
    },
    {
      "cell_type": "code",
      "metadata": {
        "colab": {
          "base_uri": "https://localhost:8080/"
        },
        "id": "oiSuPbFYh1xq",
        "outputId": "6662a672-ebc6-43aa-b06e-9626accdbe16"
      },
      "source": [
        "!pip install pyDOE"
      ],
      "execution_count": null,
      "outputs": [
        {
          "output_type": "stream",
          "text": [
            "Collecting pyDOE\n",
            "  Downloading https://files.pythonhosted.org/packages/bc/ac/91fe4c039e2744466621343d3b8af4a485193ed0aab53af5b1db03be0989/pyDOE-0.3.8.zip\n",
            "Requirement already satisfied: numpy in /usr/local/lib/python3.7/dist-packages (from pyDOE) (1.19.5)\n",
            "Requirement already satisfied: scipy in /usr/local/lib/python3.7/dist-packages (from pyDOE) (1.4.1)\n",
            "Building wheels for collected packages: pyDOE\n",
            "  Building wheel for pyDOE (setup.py) ... \u001b[?25l\u001b[?25hdone\n",
            "  Created wheel for pyDOE: filename=pyDOE-0.3.8-cp37-none-any.whl size=18178 sha256=48a8ed32dc0e3dbc8ec404172631fcdfd0d0e7da3cb9e65a5f43d352444d9655\n",
            "  Stored in directory: /root/.cache/pip/wheels/7c/c8/58/a6493bd415e8ba5735082b5e0c096d7c1f2933077a8ce34544\n",
            "Successfully built pyDOE\n",
            "Installing collected packages: pyDOE\n",
            "Successfully installed pyDOE-0.3.8\n"
          ],
          "name": "stdout"
        }
      ]
    },
    {
      "cell_type": "code",
      "metadata": {
        "id": "YW5Tuto7hfjT"
      },
      "source": [
        "import os\n",
        "import random\n",
        "import math\n",
        "\n",
        "import tensorflow as tf\n",
        "from tensorflow.keras.preprocessing.image import load_img, img_to_array\n",
        "import tensorflow.keras.layers as L\n",
        "from tensorflow.keras.utils import to_categorical\n",
        "from tensorflow.keras.regularizers import l2\n",
        "from tensorflow.keras.optimizers import Adam\n",
        "from tensorflow.keras.optimizers.schedules import ExponentialDecay\n",
        "import tensorflow_hub as hub\n",
        "import numpy as np\n",
        "from sklearn.model_selection import train_test_split, RepeatedStratifiedKFold\n",
        "from sklearn.utils import shuffle\n",
        "from sklearn.metrics import accuracy_score\n",
        "from tqdm import tqdm\n",
        "from tabulate import tabulate\n",
        "from pyDOE import lhs\n",
        "import matplotlib.pyplot as plt"
      ],
      "execution_count": null,
      "outputs": []
    },
    {
      "cell_type": "code",
      "metadata": {
        "colab": {
          "base_uri": "https://localhost:8080/"
        },
        "id": "LZ-z_wgthgu5",
        "outputId": "9077c7c6-0689-4ad9-e222-ce251dd64ab1"
      },
      "source": [
        "class Dataset:\n",
        "    def __init__(self, data_root: str, *, test_size: float, img_size: int, seed: int = 0) -> None:\n",
        "        self.label2index = {}\n",
        "        self.index2label = {}\n",
        "        \n",
        "        # Discover the class label names.\n",
        "        class_labels = os.listdir(data_root)\n",
        "        self.nclasses = len(class_labels)\n",
        "        X, y = [], []\n",
        "        \n",
        "        for label_index, label in enumerate(class_labels):\n",
        "            # Load the images for this class label.\n",
        "            self.label2index[label_index] = label\n",
        "            self.index2label[label] = label_index\n",
        "            \n",
        "            img_names = os.listdir(os.path.join(data_root, label))\n",
        "            for img_name in img_names:\n",
        "                img_path = os.path.join(data_root, label, img_name)\n",
        "                img = load_img(img_path, target_size=(img_size, img_size, 3))\n",
        "                X.append(img_to_array(img))\n",
        "                y.append(label_index)\n",
        "        \n",
        "        X = np.array(X)\n",
        "        y = np.array(y)\n",
        "        one_hot_y = to_categorical(y, num_classes=self.nclasses)\n",
        "        \n",
        "        # Make a stratified split.\n",
        "        self.X, self.X_test, self.labels, self.labels_test, self.y, self.y_test = train_test_split(\n",
        "            X, y, one_hot_y, test_size=test_size, random_state=seed, stratify=y\n",
        "        )\n",
        "\n",
        "        \n",
        "data = Dataset(\"/content/drive/MyDrive/Kaggle/Breast cancer/train\", test_size=0.2, img_size=150)\n",
        "print(data.X.shape, data.y.shape)"
      ],
      "execution_count": null,
      "outputs": [
        {
          "output_type": "stream",
          "text": [
            "(1354, 150, 150, 3) (1354, 2)\n"
          ],
          "name": "stdout"
        }
      ]
    },
    {
      "cell_type": "code",
      "metadata": {
        "colab": {
          "base_uri": "https://localhost:8080/"
        },
        "id": "b51qK-ZPhgeE",
        "outputId": "68900d9e-9931-49fe-abf7-32363a2c19b5"
      },
      "source": [
        "embed = hub.KerasLayer(\"https://tfhub.dev/google/bit/m-r101x1/ilsvrc2012_classification/1\", trainable=False)\n",
        "X_embedding = embed(data.X)\n",
        "X_test_embedding = embed(data.X_test)\n",
        "print(X_embedding.shape, X_test_embedding.shape)"
      ],
      "execution_count": null,
      "outputs": [
        {
          "output_type": "stream",
          "text": [
            "(1354, 1000) (339, 1000)\n"
          ],
          "name": "stdout"
        }
      ]
    },
    {
      "cell_type": "code",
      "metadata": {
        "id": "pyXYL2slhgag"
      },
      "source": [
        "def make_model(\n",
        "    nclasses: int, *, dropout_rate: float, nhiddenunits: int, l2_regularization: float\n",
        ") -> tf.keras.Model:\n",
        "    model = tf.keras.Sequential()\n",
        "    # One fully connected hidden layer\n",
        "    model.add(L.Dense(nhiddenunits, activation=\"relu\", kernel_regularizer=l2(l2_regularization)))\n",
        "    model.add(L.Dropout(dropout_rate))\n",
        "    # Output layer\n",
        "    model.add(L.Dense(nclasses, activation=\"softmax\", kernel_regularizer=l2(l2_regularization)))\n",
        "    return model"
      ],
      "execution_count": null,
      "outputs": []
    },
    {
      "cell_type": "code",
      "metadata": {
        "id": "H4F8zSzShgYI"
      },
      "source": [
        "def evaluate_model(\n",
        "    nclasses, X, y, X_dev, y_dev, *,\n",
        "    epochs: int, batch_size: int, learning_rate: float,\n",
        "    model_maker = make_model, **model_params\n",
        ") -> tuple:\n",
        "    \n",
        "    # Math to compute the learning rate schedule. We will divide our\n",
        "    # learning rate by a factor of 10 every 30% of the optimizer's\n",
        "    # total steps.\n",
        "    steps_per_epoch = math.ceil(len(X) / batch_size)\n",
        "    third_of_total_steps = math.floor(epochs * steps_per_epoch / 3)\n",
        "    \n",
        "    # Make and compile the model.\n",
        "    model = model_maker(nclasses, **model_params)\n",
        "    model.compile(\n",
        "        optimizer=Adam(\n",
        "            learning_rate=ExponentialDecay(\n",
        "                learning_rate,\n",
        "                decay_steps=third_of_total_steps,\n",
        "                decay_rate=0.1,\n",
        "                staircase=True\n",
        "            )\n",
        "        ),\n",
        "        loss=\"binary_crossentropy\",\n",
        "        metrics=[\"accuracy\"]\n",
        "    )\n",
        "    \n",
        "    # Train the model on the training set and evaluate it on the dev set.\n",
        "    model.fit(X, y, batch_size=batch_size, epochs=epochs, verbose=0)\n",
        "    _, train_acc = model.evaluate(X, y, batch_size=batch_size, verbose=0)\n",
        "    _, dev_acc = model.evaluate(X_dev, y_dev, batch_size=batch_size, verbose=0)\n",
        "    return model, train_acc, dev_acc"
      ],
      "execution_count": null,
      "outputs": []
    },
    {
      "cell_type": "code",
      "metadata": {
        "id": "_qVda_I1hgVl"
      },
      "source": [
        "def cv_evaluate_model(\n",
        "    X, y, labels, *, nfolds: int, nrepeats: int, epochs: int, batch_size: int,\n",
        "    learning_rate: float, model_maker, verbose: bool = True, seed: int = 0,\n",
        "    **model_params\n",
        ") -> dict:\n",
        "    \"\"\"\n",
        "    Performs `nfolds` cross-validated training and evaluation of a\n",
        "    model hyperparameter configuration. Returns a dictionary of\n",
        "    statistics about the outcome of the cross-validated experiment.\n",
        "    \"\"\"\n",
        "    _, nclasses = y.shape\n",
        "    train_accs, dev_accs = [], []\n",
        "    \n",
        "    # Train and evaluate the model for each fold.\n",
        "    for train_index, dev_index in tqdm(\n",
        "        RepeatedStratifiedKFold(\n",
        "            n_splits=nfolds, n_repeats=nrepeats, random_state=seed\n",
        "        ).split(X, labels),\n",
        "        total=nfolds*nrepeats, disable=not verbose\n",
        "    ):\n",
        "        \n",
        "        # Select the data for this fold.\n",
        "        X_train_fold = tf.gather(X, train_index) \n",
        "        y_train_fold = tf.gather(y, train_index)\n",
        "        X_dev_fold = tf.gather(X, dev_index)\n",
        "        y_dev_fold = tf.gather(y, dev_index)\n",
        "        \n",
        "        # Train and evaluate the model.\n",
        "        _, train_acc, dev_acc = evaluate_model(\n",
        "            nclasses,\n",
        "            X_train_fold,\n",
        "            y_train_fold,\n",
        "            X_dev_fold,\n",
        "            y_dev_fold,\n",
        "            epochs=epochs,\n",
        "            batch_size=batch_size,\n",
        "            learning_rate=learning_rate,\n",
        "            model_maker=model_maker,\n",
        "            **model_params\n",
        "        )\n",
        "        train_accs.append(train_acc)\n",
        "        dev_accs.append(dev_acc)\n",
        "    \n",
        "    # Aggregate.\n",
        "    results = {\n",
        "        \"train_mean\": np.mean(train_accs),\n",
        "        \"train_std\": np.std(train_accs),\n",
        "        \"dev_mean\": np.mean(dev_accs),\n",
        "        \"dev_std\": np.std(dev_accs)\n",
        "    }\n",
        "    \n",
        "    # Report.\n",
        "    if verbose:\n",
        "        print(\n",
        "            tabulate(\n",
        "                [\n",
        "                    [\"Train\", results[\"train_mean\"], results[\"train_std\"]],\n",
        "                    [\"Dev\", results[\"dev_mean\"], results[\"dev_std\"]]\n",
        "                ],\n",
        "                headers=[\"Set\", \"Mean\", \"Std. Dev.\"]\n",
        "            )\n",
        "        )\n",
        "    \n",
        "    return results"
      ],
      "execution_count": null,
      "outputs": []
    },
    {
      "cell_type": "code",
      "metadata": {
        "colab": {
          "base_uri": "https://localhost:8080/"
        },
        "id": "jRft5HXEhgTM",
        "outputId": "b10f68ce-7082-45e5-8bd7-68078ffd41a6"
      },
      "source": [
        "# We'll refer to these values throughout the notebook.\n",
        "default_cv_evaluate_params = {\n",
        "    \"X\": X_embedding,\n",
        "    \"y\": data.y,\n",
        "    \"labels\": data.labels,\n",
        "    \"nfolds\": 10,\n",
        "    \"nrepeats\": 3,\n",
        "    \"model_maker\": make_model,\n",
        "    \"epochs\": 200,\n",
        "    \"batch_size\": 32,\n",
        "    \"verbose\": False,\n",
        "    \"learning_rate\": 3e-3,\n",
        "    \"dropout_rate\": 0.3,\n",
        "    \"nhiddenunits\": 64,\n",
        "    \"l2_regularization\": 1e-6\n",
        "}\n",
        "\n",
        "_ = cv_evaluate_model(\n",
        "    **{\n",
        "        **default_cv_evaluate_params,\n",
        "        \"verbose\": True\n",
        "    }\n",
        ")"
      ],
      "execution_count": null,
      "outputs": [
        {
          "output_type": "stream",
          "text": [
            "100%|██████████| 30/30 [06:48<00:00, 13.61s/it]"
          ],
          "name": "stderr"
        },
        {
          "output_type": "stream",
          "text": [
            "Set        Mean    Std. Dev.\n",
            "-----  --------  -----------\n",
            "Train  0.980494    0.0136533\n",
            "Dev    0.867101    0.0258021\n"
          ],
          "name": "stdout"
        },
        {
          "output_type": "stream",
          "text": [
            "\n"
          ],
          "name": "stderr"
        }
      ]
    },
    {
      "cell_type": "code",
      "metadata": {
        "id": "KTOyNi76hgSL"
      },
      "source": [
        "nsamples = 20\n",
        "# `lhs` will yield a `nsamples`x2 matrix, with all values following\n",
        "# the uniform distribution in [0,1]\n",
        "np.random.seed()\n",
        "x = lhs(n=2, samples=nsamples)\n",
        "# Scale dropout samples to be in [0,0.6]\n",
        "dropout_rates = (x[:, 0]*.6)\n",
        "# Scale l2 samples to be in [-8, -1]\n",
        "l2_rates = (x[:, 1]*-7 - 1)\n",
        "# Now scale l2 samples to follow the\n",
        "# log scale in the range [10**-8,10**-1]\n",
        "l2_rates = 10**l2_rates"
      ],
      "execution_count": null,
      "outputs": []
    },
    {
      "cell_type": "code",
      "metadata": {
        "colab": {
          "base_uri": "https://localhost:8080/"
        },
        "id": "1pYhdGdzhgNt",
        "outputId": "a240eb5a-0168-42a0-c4b1-d1ab33ec673f"
      },
      "source": [
        "dev_means = np.zeros((nsamples, 1))\n",
        "dev_stds = np.zeros((nsamples, 1))\n",
        "for i in tqdm(range(nsamples)):\n",
        "    results = cv_evaluate_model(\n",
        "        **{\n",
        "            **default_cv_evaluate_params,\n",
        "            \"dropout_rate\": dropout_rates[i],\n",
        "            \"l2_regularization\": l2_rates[i]\n",
        "        }\n",
        "    )\n",
        "    dev_means[i] = results[\"dev_mean\"]\n",
        "    dev_stds[i] = results[\"dev_std\"]"
      ],
      "execution_count": null,
      "outputs": [
        {
          "output_type": "stream",
          "text": [
            "100%|██████████| 20/20 [2:15:50<00:00, 407.53s/it]\n"
          ],
          "name": "stderr"
        }
      ]
    },
    {
      "cell_type": "code",
      "metadata": {
        "id": "jv1eN8pghgLH",
        "colab": {
          "base_uri": "https://localhost:8080/",
          "height": 313
        },
        "outputId": "ebc01ff6-4af9-45a3-992b-56c4d8ce1126"
      },
      "source": [
        "best_i = np.argmax(dev_means)\n",
        "best_l2 = l2_rates[best_i]\n",
        "print(f\"Best l2_rate:\\t{best_l2}\")\n",
        "best_dropout = dropout_rates[best_i]\n",
        "print(f\"Best dropout:\\t{best_dropout}\")\n",
        "\n",
        "plt.scatter(dropout_rates, l2_rates, c=dev_means, cmap=plt.cm.coolwarm)\n",
        "plt.xlabel(\"Dropout Rate\")\n",
        "plt.ylabel(\"L2 Rate\")\n",
        "plt.yscale(\"log\")\n",
        "plt.colorbar()\n",
        "plt.show()"
      ],
      "execution_count": null,
      "outputs": [
        {
          "output_type": "stream",
          "text": [
            "Best l2_rate:\t1.4731166457115866e-05\n",
            "Best dropout:\t0.22309008198854016\n"
          ],
          "name": "stdout"
        },
        {
          "output_type": "display_data",
          "data": {
            "image/png": "[encoded data removed]",
            "text/plain": [
              "<Figure size 432x288 with 2 Axes>"
            ]
          },
          "metadata": {
            "tags": [],
            "needs_background": "light"
          }
        }
      ]
    },
    {
      "cell_type": "code",
      "metadata": {
        "id": "xjvtq0AjhgIM"
      },
      "source": [
        "default_cv_evaluate_params[\"dropout_rate\"] = best_dropout\n",
        "default_cv_evaluate_params[\"l2_regularization\"] = best_l2"
      ],
      "execution_count": null,
      "outputs": []
    },
    {
      "cell_type": "code",
      "metadata": {
        "id": "B7Xv5TL3hgGf"
      },
      "source": [
        "def search_hyperparam(\n",
        "    param_name: str, lower: int, upper: int, nsamples: int,\n",
        "    scale: str = \"float\", **cv_evaluate_params\n",
        ") -> float:\n",
        "    \"\"\"\n",
        "    Cross validates a model along an evenly spaced range of `nsamples`\n",
        "    values for a single hyperparameter (identified by `param_name`. The\n",
        "    values are evenly spaced in the range `[lower,upper]`, and scaled\n",
        "    according to `scale`.\n",
        "    \"\"\"\n",
        "    # Sample the hyperparameter values to try.\n",
        "    param_values = np.linspace(lower, upper, nsamples)\n",
        "    if scale == \"log\":\n",
        "        param_values = 10**param_values\n",
        "    elif scale == \"int\":\n",
        "        param_values = param_values.astype(int)\n",
        "    \n",
        "    # Evaluate the model at each of the values.\n",
        "    dev_means = np.zeros((nsamples, 1))\n",
        "    dev_stds = np.zeros((nsamples, 1))\n",
        "    for i in tqdm(range(nsamples)):\n",
        "        results = cv_evaluate_model(\n",
        "            **{\n",
        "                **cv_evaluate_params,\n",
        "                param_name: param_values[i]\n",
        "            }\n",
        "        )\n",
        "        dev_means[i] = results[\"dev_mean\"]\n",
        "        dev_stds[i] = results[\"dev_std\"]\n",
        "    \n",
        "    # Find the best value.\n",
        "    best_param_value = param_values[np.argmax(dev_means)]\n",
        "    print(f\"Best {param_name} value: {best_param_value}\")\n",
        "    \n",
        "    # Plot scores achieved for all values.\n",
        "    plt.plot(param_values, dev_means)\n",
        "    plt.xlabel(param_name)\n",
        "    plt.ylabel(\"Mean Dev Set Accuracy\")\n",
        "    if scale == \"log\":\n",
        "        plt.xscale(\"log\")\n",
        "    plt.show()\n",
        "    \n",
        "    return best_param_value"
      ],
      "execution_count": null,
      "outputs": []
    },
    {
      "cell_type": "code",
      "metadata": {
        "id": "u8FAN7e2hgFb",
        "colab": {
          "base_uri": "https://localhost:8080/",
          "height": 313
        },
        "outputId": "0dece7b2-ff46-476b-d5de-c3aa9a0a61c1"
      },
      "source": [
        "best_epochs = search_hyperparam(\"epochs\", 20, 200, 10, scale=\"int\", **default_cv_evaluate_params)"
      ],
      "execution_count": null,
      "outputs": [
        {
          "output_type": "stream",
          "text": [
            "100%|██████████| 10/10 [39:04<00:00, 234.41s/it]"
          ],
          "name": "stderr"
        },
        {
          "output_type": "stream",
          "text": [
            "Best epochs value: 120\n"
          ],
          "name": "stdout"
        },
        {
          "output_type": "stream",
          "text": [
            "\n"
          ],
          "name": "stderr"
        },
        {
          "output_type": "display_data",
          "data": {
            "image/png": "[encoded data removed]",
            "text/plain": [
              "<Figure size 432x288 with 1 Axes>"
            ]
          },
          "metadata": {
            "tags": [],
            "needs_background": "light"
          }
        }
      ]
    },
    {
      "cell_type": "code",
      "metadata": {
        "id": "OIPxeAa6z5DB"
      },
      "source": [
        "default_cv_evaluate_params[\"epochs\"] = best_epochs"
      ],
      "execution_count": null,
      "outputs": []
    },
    {
      "cell_type": "code",
      "metadata": {
        "id": "NbLmUYfaDRBn"
      },
      "source": [
        "from sklearn.metrics import classification_report, confusion_matrix\n",
        "import seaborn as sns"
      ],
      "execution_count": null,
      "outputs": []
    },
    {
      "cell_type": "code",
      "metadata": {
        "id": "fnmNb48Wz5Ac",
        "colab": {
          "base_uri": "https://localhost:8080/",
          "height": 298
        },
        "outputId": "34474bf1-3999-4d98-b8fc-d5b726c83a16"
      },
      "source": [
        "def evaluate_final(params: dict) -> float:\n",
        "    \n",
        "    steps_per_epoch = math.ceil(len(X_embedding) / params[\"batch_size\"])\n",
        "    third_of_total_steps = math.floor(params[\"epochs\"] * steps_per_epoch / 3)\n",
        "\n",
        "    # Make and compile the model.\n",
        "    model = make_model(\n",
        "        data.nclasses,\n",
        "        dropout_rate=params[\"dropout_rate\"],\n",
        "        nhiddenunits=params[\"nhiddenunits\"],\n",
        "        l2_regularization=params[\"l2_regularization\"]\n",
        "    )\n",
        "    model.compile(\n",
        "        optimizer=Adam(\n",
        "            learning_rate=ExponentialDecay(\n",
        "                params[\"learning_rate\"],\n",
        "                decay_steps=third_of_total_steps,\n",
        "                decay_rate=0.1,\n",
        "                staircase=True\n",
        "            )\n",
        "        ),\n",
        "        loss=\"categorical_crossentropy\",\n",
        "        metrics=[\"accuracy\"]\n",
        "    )\n",
        "\n",
        "    # Train the model on the full training set (no development set)\n",
        "    history = model.fit(\n",
        "        X_embedding,\n",
        "        tf.convert_to_tensor(data.y),\n",
        "        batch_size=params[\"batch_size\"],\n",
        "        epochs=params[\"epochs\"],\n",
        "        verbose=0\n",
        "    )\n",
        "\n",
        "    # Evaluate the fitted model on the test set.\n",
        "    _, test_acc = model.evaluate(\n",
        "        X_test_embedding,\n",
        "        data.y_test,\n",
        "        verbose=0\n",
        "    )\n",
        "    # Plotting training and validation accuracy per epoch\n",
        "\n",
        "    train_acc = history.history[\"accuracy\"]\n",
        "    \n",
        "\n",
        "    epochs = range(len(train_acc)) \n",
        "\n",
        "    plt.plot(epochs, train_acc)\n",
        "    \n",
        "    plt.legend([\"Training Accuracy\", \"Validation Accuracy\"])\n",
        "    plt.title(\"Training and Validation Accuracy\")\n",
        "    return test_acc\n",
        "\n",
        "test_acc = evaluate_final(default_cv_evaluate_params)\n",
        "print(f\"Final test set accuracy:\\t{test_acc:.6f}\")"
      ],
      "execution_count": null,
      "outputs": [
        {
          "output_type": "stream",
          "text": [
            "Final test set accuracy:\t0.873156\n"
          ],
          "name": "stdout"
        },
        {
          "output_type": "display_data",
          "data": {
            "image/png": "[encoded data removed]",
            "text/plain": [
              "<Figure size 432x288 with 1 Axes>"
            ]
          },
          "metadata": {
            "tags": [],
            "needs_background": "light"
          }
        }
      ]
    },
    {
      "cell_type": "code",
      "metadata": {
        "id": "6ze6q9Bvz4-E",
        "colab": {
          "base_uri": "https://localhost:8080/",
          "height": 298
        },
        "outputId": "0928a6cf-6770-4bc1-ca06-42514880d894"
      },
      "source": [
        "test_accs = []\n",
        "for _ in tqdm(range(30)):\n",
        "    test_accs.append(evaluate_final(default_cv_evaluate_params))"
      ],
      "execution_count": null,
      "outputs": [
        {
          "output_type": "stream",
          "text": [
            "100%|██████████| 30/30 [04:15<00:00,  8.52s/it]\n"
          ],
          "name": "stderr"
        },
        {
          "output_type": "display_data",
          "data": {
            "image/png": "[encoded data removed]",
            "text/plain": [
              "<Figure size 432x288 with 1 Axes>"
            ]
          },
          "metadata": {
            "tags": [],
            "needs_background": "light"
          }
        }
      ]
    },
    {
      "cell_type": "code",
      "metadata": {
        "id": "uz1H56NDz47f",
        "colab": {
          "base_uri": "https://localhost:8080/",
          "height": 279
        },
        "outputId": "b336b41b-ab7e-491f-8a03-a12b64891c20"
      },
      "source": [
        "plt.hist(test_accs)\n",
        "plt.xlabel(\"Test Set Accuracy\")\n",
        "plt.ylabel(\"Model Count\")\n",
        "plt.show()"
      ],
      "execution_count": null,
      "outputs": [
        {
          "output_type": "display_data",
          "data": {
            "image/png": "[encoded data removed]",
            "text/plain": [
              "<Figure size 432x288 with 1 Axes>"
            ]
          },
          "metadata": {
            "tags": [],
            "needs_background": "light"
          }
        }
      ]
    }
  ]
}