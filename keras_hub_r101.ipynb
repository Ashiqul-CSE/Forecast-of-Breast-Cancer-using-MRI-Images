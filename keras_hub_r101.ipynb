{
  "nbformat": 4,
  "nbformat_minor": 0,
  "metadata": {
    "accelerator": "GPU",
    "colab": {
      "name": "keras_hub_r101.ipynb",
      "provenance": [],
      "collapsed_sections": [],
      "machine_shape": "hm"
    },
    "kernelspec": {
      "display_name": "Python 3",
      "name": "python3"
    }
  },
  "cells": [
    {
      "cell_type": "code",
      "metadata": {
        "colab": {
          "base_uri": "https://localhost:8080/"
        },
        "id": "oiSuPbFYh1xq",
        "outputId": "b5839d8d-920c-46a2-9a3a-f7d5fad3b173"
      },
      "source": [
        "!pip install pyDOE"
      ],
      "execution_count": null,
      "outputs": [
        {
          "output_type": "stream",
          "name": "stdout",
          "text": [
            "Requirement already satisfied: pyDOE in /usr/local/lib/python3.7/dist-packages (0.3.8)\n",
            "Requirement already satisfied: scipy in /usr/local/lib/python3.7/dist-packages (from pyDOE) (1.4.1)\n",
            "Requirement already satisfied: numpy in /usr/local/lib/python3.7/dist-packages (from pyDOE) (1.19.5)\n"
          ]
        }
      ]
    },
    {
      "cell_type": "code",
      "metadata": {
        "id": "YW5Tuto7hfjT"
      },
      "source": [
        "import os\n",
        "import random\n",
        "import math\n",
        "\n",
        "import tensorflow as tf\n",
        "from tensorflow.keras.preprocessing.image import load_img, img_to_array\n",
        "import tensorflow.keras.layers as L\n",
        "from tensorflow.keras.utils import to_categorical\n",
        "from tensorflow.keras.regularizers import l2\n",
        "from tensorflow.keras.optimizers import Adam\n",
        "from tensorflow.keras.optimizers.schedules import ExponentialDecay\n",
        "import tensorflow_hub as hub\n",
        "import numpy as np\n",
        "from sklearn.model_selection import train_test_split, RepeatedStratifiedKFold\n",
        "from sklearn.utils import shuffle\n",
        "from sklearn.metrics import accuracy_score\n",
        "from tqdm import tqdm\n",
        "from tabulate import tabulate\n",
        "from pyDOE import lhs\n",
        "import matplotlib.pyplot as plt"
      ],
      "execution_count": null,
      "outputs": []
    },
    {
      "cell_type": "code",
      "metadata": {
        "colab": {
          "base_uri": "https://localhost:8080/"
        },
        "id": "LZ-z_wgthgu5",
        "outputId": "ee8925c1-d3ba-4555-a57c-cb677522340c"
      },
      "source": [
        "class Dataset:\n",
        "    def __init__(self, data_root: str, *, test_size: float, img_size: int, seed: int = 0) -> None:\n",
        "        self.label2index = {}\n",
        "        self.index2label = {}\n",
        "        \n",
        "        # Discover the class label names.\n",
        "        class_labels = os.listdir(data_root)\n",
        "        self.nclasses = len(class_labels)\n",
        "        X, y = [], []\n",
        "        \n",
        "        for label_index, label in enumerate(class_labels):\n",
        "            # Load the images for this class label.\n",
        "            self.label2index[label_index] = label\n",
        "            self.index2label[label] = label_index\n",
        "            \n",
        "            img_names = os.listdir(os.path.join(data_root, label))\n",
        "            for img_name in img_names:\n",
        "                img_path = os.path.join(data_root, label, img_name)\n",
        "                img = load_img(img_path, target_size=(img_size, img_size, 3))\n",
        "                X.append(img_to_array(img))\n",
        "                y.append(label_index)\n",
        "        \n",
        "        X = np.array(X)\n",
        "        y = np.array(y)\n",
        "        one_hot_y = to_categorical(y, num_classes=self.nclasses)\n",
        "        \n",
        "        # Make a stratified split.\n",
        "        self.X, self.X_test, self.labels, self.labels_test, self.y, self.y_test = train_test_split(\n",
        "            X, y, one_hot_y, test_size=test_size, random_state=seed, stratify=y\n",
        "        )\n",
        "\n",
        "        \n",
        "data = Dataset(\"/content/drive/MyDrive/Chest_X-ray\", test_size=0.2, img_size=128)\n",
        "print(data.X.shape, data.y.shape)"
      ],
      "execution_count": null,
      "outputs": [
        {
          "output_type": "stream",
          "name": "stdout",
          "text": [
            "(618, 128, 128, 3) (618, 2)\n"
          ]
        }
      ]
    },
    {
      "cell_type": "code",
      "metadata": {
        "colab": {
          "base_uri": "https://localhost:8080/"
        },
        "id": "b51qK-ZPhgeE",
        "outputId": "dd7c7e4b-2e09-412d-9ddb-bbb4e1dcea93"
      },
      "source": [
        "embed = hub.KerasLayer(\"https://tfhub.dev/google/bit/s-r101x3/ilsvrc2012_classification/1\", trainable=False)\n",
        "X_embedding = embed(data.X)\n",
        "X_test_embedding = embed(data.X_test)\n",
        "print(X_embedding.shape, X_test_embedding.shape)"
      ],
      "execution_count": null,
      "outputs": [
        {
          "output_type": "stream",
          "name": "stdout",
          "text": [
            "(618, 1000) (155, 1000)\n"
          ]
        }
      ]
    },
    {
      "cell_type": "code",
      "metadata": {
        "id": "pyXYL2slhgag"
      },
      "source": [
        "def make_model(\n",
        "    nclasses: int, *, dropout_rate: float, nhiddenunits: int, l2_regularization: float\n",
        ") -> tf.keras.Model:\n",
        "    model = tf.keras.Sequential()\n",
        "    # One fully connected hidden layer\n",
        "    model.add(L.Dense(nhiddenunits, activation=\"relu\", kernel_regularizer=l2(l2_regularization)))\n",
        "    model.add(L.Dropout(dropout_rate))\n",
        "    # Output layer\n",
        "    model.add(L.Dense(nclasses, activation=\"softmax\", kernel_regularizer=l2(l2_regularization)))\n",
        "    return model"
      ],
      "execution_count": null,
      "outputs": []
    },
    {
      "cell_type": "code",
      "metadata": {
        "id": "H4F8zSzShgYI"
      },
      "source": [
        "def evaluate_model(\n",
        "    nclasses, X, y, X_dev, y_dev, *,\n",
        "    epochs: int, batch_size: int, learning_rate: float,\n",
        "    model_maker = make_model, **model_params\n",
        ") -> tuple:\n",
        "    \n",
        "    # Math to compute the learning rate schedule. We will divide our\n",
        "    # learning rate by a factor of 10 every 30% of the optimizer's\n",
        "    # total steps.\n",
        "    steps_per_epoch = math.ceil(len(X) / batch_size)\n",
        "    third_of_total_steps = math.floor(epochs * steps_per_epoch / 3)\n",
        "    \n",
        "    # Make and compile the model.\n",
        "    model = model_maker(nclasses, **model_params)\n",
        "    model.compile(\n",
        "        optimizer=Adam(\n",
        "            learning_rate=ExponentialDecay(\n",
        "                learning_rate,\n",
        "                decay_steps=third_of_total_steps,\n",
        "                decay_rate=0.1,\n",
        "                staircase=True\n",
        "            )\n",
        "        ),\n",
        "        loss=\"binary_crossentropy\",\n",
        "        metrics=[\"accuracy\"]\n",
        "    )\n",
        "    \n",
        "    # Train the model on the training set and evaluate it on the dev set.\n",
        "    model.fit(X, y, batch_size=batch_size, epochs=epochs, verbose=0)\n",
        "    _, train_acc = model.evaluate(X, y, batch_size=batch_size, verbose=0)\n",
        "    _, dev_acc = model.evaluate(X_dev, y_dev, batch_size=batch_size, verbose=0)\n",
        "    return model, train_acc, dev_acc"
      ],
      "execution_count": null,
      "outputs": []
    },
    {
      "cell_type": "code",
      "metadata": {
        "id": "_qVda_I1hgVl"
      },
      "source": [
        "def cv_evaluate_model(\n",
        "    X, y, labels, *, nfolds: int, nrepeats: int, epochs: int, batch_size: int,\n",
        "    learning_rate: float, model_maker, verbose: bool = True, seed: int = 0,\n",
        "    **model_params\n",
        ") -> dict:\n",
        "    \"\"\"\n",
        "    Performs `nfolds` cross-validated training and evaluation of a\n",
        "    model hyperparameter configuration. Returns a dictionary of\n",
        "    statistics about the outcome of the cross-validated experiment.\n",
        "    \"\"\"\n",
        "    _, nclasses = y.shape\n",
        "    train_accs, dev_accs = [], []\n",
        "    \n",
        "    # Train and evaluate the model for each fold.\n",
        "    for train_index, dev_index in tqdm(\n",
        "        RepeatedStratifiedKFold(\n",
        "            n_splits=nfolds, n_repeats=nrepeats, random_state=seed\n",
        "        ).split(X, labels),\n",
        "        total=nfolds*nrepeats, disable=not verbose\n",
        "    ):\n",
        "        \n",
        "        # Select the data for this fold.\n",
        "        X_train_fold = tf.gather(X, train_index) \n",
        "        y_train_fold = tf.gather(y, train_index)\n",
        "        X_dev_fold = tf.gather(X, dev_index)\n",
        "        y_dev_fold = tf.gather(y, dev_index)\n",
        "        \n",
        "        # Train and evaluate the model.\n",
        "        _, train_acc, dev_acc = evaluate_model(\n",
        "            nclasses,\n",
        "            X_train_fold,\n",
        "            y_train_fold,\n",
        "            X_dev_fold,\n",
        "            y_dev_fold,\n",
        "            epochs=epochs,\n",
        "            batch_size=batch_size,\n",
        "            learning_rate=learning_rate,\n",
        "            model_maker=model_maker,\n",
        "            **model_params\n",
        "        )\n",
        "        train_accs.append(train_acc)\n",
        "        dev_accs.append(dev_acc)\n",
        "    \n",
        "    # Aggregate.\n",
        "    results = {\n",
        "        \"train_mean\": np.mean(train_accs),\n",
        "        \"train_std\": np.std(train_accs),\n",
        "        \"dev_mean\": np.mean(dev_accs),\n",
        "        \"dev_std\": np.std(dev_accs)\n",
        "    }\n",
        "    \n",
        "    # Report.\n",
        "    if verbose:\n",
        "        print(\n",
        "            tabulate(\n",
        "                [\n",
        "                    [\"Train\", results[\"train_mean\"], results[\"train_std\"]],\n",
        "                    [\"Dev\", results[\"dev_mean\"], results[\"dev_std\"]]\n",
        "                ],\n",
        "                headers=[\"Set\", \"Mean\", \"Std. Dev.\"]\n",
        "            )\n",
        "        )\n",
        "    \n",
        "    return results"
      ],
      "execution_count": null,
      "outputs": []
    },
    {
      "cell_type": "code",
      "metadata": {
        "colab": {
          "base_uri": "https://localhost:8080/"
        },
        "id": "jRft5HXEhgTM",
        "outputId": "7ef9f7e3-fe65-4caf-be22-457d6addaa60"
      },
      "source": [
        "# We'll refer to these values throughout the notebook.\n",
        "default_cv_evaluate_params = {\n",
        "    \"X\": X_embedding,\n",
        "    \"y\": data.y,\n",
        "    \"labels\": data.labels,\n",
        "    \"nfolds\": 10,\n",
        "    \"nrepeats\": 3,\n",
        "    \"model_maker\": make_model,\n",
        "    \"epochs\": 200,\n",
        "    \"batch_size\": 32,\n",
        "    \"verbose\": False,\n",
        "    \"learning_rate\": 3e-3,\n",
        "    \"dropout_rate\": 0.3,\n",
        "    \"nhiddenunits\": 64,\n",
        "    \"l2_regularization\": 1e-6\n",
        "}\n",
        "\n",
        "_ = cv_evaluate_model(\n",
        "    **{\n",
        "        **default_cv_evaluate_params,\n",
        "        \"verbose\": True\n",
        "    }\n",
        ")"
      ],
      "execution_count": null,
      "outputs": [
        {
          "output_type": "stream",
          "name": "stderr",
          "text": [
            "100%|██████████| 30/30 [03:36<00:00,  7.21s/it]"
          ]
        },
        {
          "output_type": "stream",
          "name": "stdout",
          "text": [
            "Set        Mean    Std. Dev.\n",
            "-----  --------  -----------\n",
            "Train  0.984295    0.0170633\n",
            "Dev    0.697999    0.0546028\n"
          ]
        },
        {
          "output_type": "stream",
          "name": "stderr",
          "text": [
            "\n"
          ]
        }
      ]
    },
    {
      "cell_type": "code",
      "metadata": {
        "id": "KTOyNi76hgSL"
      },
      "source": [
        "nsamples = 5\n",
        "# `lhs` will yield a `nsamples`x2 matrix, with all values following\n",
        "# the uniform distribution in [0,1]\n",
        "np.random.seed()\n",
        "x = lhs(n=2, samples=nsamples)\n",
        "# Scale dropout samples to be in [0,0.6]\n",
        "dropout_rates = (x[:, 0]*.6)\n",
        "# Scale l2 samples to be in [-8, -1]\n",
        "l2_rates = (x[:, 1]*-7 - 1)\n",
        "# Now scale l2 samples to follow the\n",
        "# log scale in the range [10**-8,10**-1]\n",
        "l2_rates = 10**l2_rates"
      ],
      "execution_count": null,
      "outputs": []
    },
    {
      "cell_type": "code",
      "metadata": {
        "colab": {
          "base_uri": "https://localhost:8080/"
        },
        "id": "1pYhdGdzhgNt",
        "outputId": "5a3b5022-ad59-43f3-8dd1-ae620d4cfda6"
      },
      "source": [
        "dev_means = np.zeros((nsamples, 1))\n",
        "dev_stds = np.zeros((nsamples, 1))\n",
        "for i in tqdm(range(nsamples)):\n",
        "    results = cv_evaluate_model(\n",
        "        **{\n",
        "            **default_cv_evaluate_params,\n",
        "            \"dropout_rate\": dropout_rates[i],\n",
        "            \"l2_regularization\": l2_rates[i]\n",
        "        }\n",
        "    )\n",
        "    dev_means[i] = results[\"dev_mean\"]\n",
        "    dev_stds[i] = results[\"dev_std\"]"
      ],
      "execution_count": null,
      "outputs": [
        {
          "output_type": "stream",
          "name": "stderr",
          "text": [
            "100%|██████████| 5/5 [17:56<00:00, 215.29s/it]\n"
          ]
        }
      ]
    },
    {
      "cell_type": "code",
      "metadata": {
        "colab": {
          "base_uri": "https://localhost:8080/",
          "height": 315
        },
        "id": "jv1eN8pghgLH",
        "outputId": "883969b8-d7f1-4461-e5d9-f71f1a219238"
      },
      "source": [
        "best_i = np.argmax(dev_means)\n",
        "best_l2 = l2_rates[best_i]\n",
        "print(f\"Best l2_rate:\\t{best_l2}\")\n",
        "best_dropout = dropout_rates[best_i]\n",
        "print(f\"Best dropout:\\t{best_dropout}\")\n",
        "\n",
        "plt.scatter(dropout_rates, l2_rates, c=dev_means, cmap=plt.cm.coolwarm)\n",
        "plt.xlabel(\"Dropout Rate\")\n",
        "plt.ylabel(\"L2 Rate\")\n",
        "plt.yscale(\"log\")\n",
        "plt.colorbar()\n",
        "plt.show()"
      ],
      "execution_count": null,
      "outputs": [
        {
          "output_type": "stream",
          "name": "stdout",
          "text": [
            "Best l2_rate:\t0.00038634382296084\n",
            "Best dropout:\t0.12804643378265318\n"
          ]
        },
        {
          "output_type": "display_data",
          "data": {
            "image/png": "[encoded data removed]",
            "text/plain": [
              "<Figure size 432x288 with 2 Axes>"
            ]
          },
          "metadata": {
            "needs_background": "light"
          }
        }
      ]
    },
    {
      "cell_type": "code",
      "metadata": {
        "id": "xjvtq0AjhgIM"
      },
      "source": [
        "default_cv_evaluate_params[\"dropout_rate\"] = best_dropout\n",
        "default_cv_evaluate_params[\"l2_regularization\"] = best_l2"
      ],
      "execution_count": null,
      "outputs": []
    },
    {
      "cell_type": "code",
      "metadata": {
        "id": "B7Xv5TL3hgGf"
      },
      "source": [
        "def search_hyperparam(\n",
        "    param_name: str, lower: int, upper: int, nsamples: int,\n",
        "    scale: str = \"float\", **cv_evaluate_params\n",
        ") -> float:\n",
        "    \"\"\"\n",
        "    Cross validates a model along an evenly spaced range of `nsamples`\n",
        "    values for a single hyperparameter (identified by `param_name`. The\n",
        "    values are evenly spaced in the range `[lower,upper]`, and scaled\n",
        "    according to `scale`.\n",
        "    \"\"\"\n",
        "    # Sample the hyperparameter values to try.\n",
        "    param_values = np.linspace(lower, upper, nsamples)\n",
        "    if scale == \"log\":\n",
        "        param_values = 10**param_values\n",
        "    elif scale == \"int\":\n",
        "        param_values = param_values.astype(int)\n",
        "    \n",
        "    # Evaluate the model at each of the values.\n",
        "    dev_means = np.zeros((nsamples, 1))\n",
        "    dev_stds = np.zeros((nsamples, 1))\n",
        "    for i in tqdm(range(nsamples)):\n",
        "        results = cv_evaluate_model(\n",
        "            **{\n",
        "                **cv_evaluate_params,\n",
        "                param_name: param_values[i]\n",
        "            }\n",
        "        )\n",
        "        dev_means[i] = results[\"dev_mean\"]\n",
        "        dev_stds[i] = results[\"dev_std\"]\n",
        "    \n",
        "    # Find the best value.\n",
        "    best_param_value = param_values[np.argmax(dev_means)]\n",
        "    print(f\"Best {param_name} value: {best_param_value}\")\n",
        "    \n",
        "    # Plot scores achieved for all values.\n",
        "    plt.plot(param_values, dev_means)\n",
        "    plt.xlabel(param_name)\n",
        "    plt.ylabel(\"Mean Dev Set Accuracy\")\n",
        "    if scale == \"log\":\n",
        "        plt.xscale(\"log\")\n",
        "    plt.show()\n",
        "    \n",
        "    return best_param_value"
      ],
      "execution_count": null,
      "outputs": []
    },
    {
      "cell_type": "code",
      "metadata": {
        "id": "u8FAN7e2hgFb",
        "colab": {
          "base_uri": "https://localhost:8080/",
          "height": 315
        },
        "outputId": "dcee716a-9201-4d7f-d219-b0eedac2e9b2"
      },
      "source": [
        "best_epochs = search_hyperparam(\"epochs\", 20, 500, 5, scale=\"int\", **default_cv_evaluate_params)"
      ],
      "execution_count": null,
      "outputs": [
        {
          "output_type": "stream",
          "name": "stderr",
          "text": [
            "100%|██████████| 5/5 [22:58<00:00, 275.72s/it]"
          ]
        },
        {
          "output_type": "stream",
          "name": "stdout",
          "text": [
            "Best epochs value: 20\n"
          ]
        },
        {
          "output_type": "stream",
          "name": "stderr",
          "text": [
            "\n"
          ]
        },
        {
          "output_type": "display_data",
          "data": {
            "image/png": "[encoded data removed]",
            "text/plain": [
              "<Figure size 432x288 with 1 Axes>"
            ]
          },
          "metadata": {
            "needs_background": "light"
          }
        }
      ]
    },
    {
      "cell_type": "code",
      "metadata": {
        "id": "DEs40FDHz5GM"
      },
      "source": [
        "#best_epochs2 = search_hyperparam(\"epochs\", 400, 800, 5, scale=\"int\", **default_cv_evaluate_params)"
      ],
      "execution_count": null,
      "outputs": []
    },
    {
      "cell_type": "code",
      "metadata": {
        "id": "OIPxeAa6z5DB"
      },
      "source": [
        "default_cv_evaluate_params[\"epochs\"] = best_epochs"
      ],
      "execution_count": null,
      "outputs": []
    },
    {
      "cell_type": "code",
      "metadata": {
        "id": "NbLmUYfaDRBn"
      },
      "source": [
        "from sklearn.metrics import classification_report, confusion_matrix\n",
        "import seaborn as sns"
      ],
      "execution_count": null,
      "outputs": []
    },
    {
      "cell_type": "code",
      "metadata": {
        "id": "fnmNb48Wz5Ac",
        "colab": {
          "base_uri": "https://localhost:8080/",
          "height": 1000
        },
        "outputId": "42003e78-e784-4ab3-e933-cf04bbdcfe51"
      },
      "source": [
        "def evaluate_final(params: dict) -> float:\n",
        "    \n",
        "    steps_per_epoch = math.ceil(len(X_embedding) / params[\"batch_size\"])\n",
        "    third_of_total_steps = math.floor(params[\"epochs\"] * steps_per_epoch / 3)\n",
        "\n",
        "    # Make and compile the model.\n",
        "    model = make_model(\n",
        "        data.nclasses,\n",
        "        dropout_rate=params[\"dropout_rate\"],\n",
        "        nhiddenunits=params[\"nhiddenunits\"],\n",
        "        l2_regularization=params[\"l2_regularization\"]\n",
        "    )\n",
        "    model.compile(\n",
        "        optimizer=Adam(\n",
        "            learning_rate=ExponentialDecay(\n",
        "                params[\"learning_rate\"],\n",
        "                decay_steps=third_of_total_steps,\n",
        "                decay_rate=0.1,\n",
        "                staircase=True\n",
        "            )\n",
        "        ),\n",
        "        loss=\"binary_crossentropy\",\n",
        "        metrics=[\"accuracy\"]\n",
        "    )\n",
        "\n",
        "    # Train the model on the full training set (no development set)\n",
        "    history = model.fit(\n",
        "        X_embedding,\n",
        "        tf.convert_to_tensor(data.y),\n",
        "        batch_size=params[\"batch_size\"],\n",
        "        validation_split = 0.1,\n",
        "        epochs=params[\"epochs\"],\n",
        "        verbose=1\n",
        "    )\n",
        "\n",
        "    # Evaluate the fitted model on the test set.\n",
        "    _, test_acc = model.evaluate(\n",
        "        X_test_embedding,\n",
        "        data.y_test,\n",
        "        verbose=0\n",
        "    )\n",
        "    # Plotting training and validation accuracy per epoch\n",
        "\n",
        "    train_acc = history.history[\"accuracy\"]\n",
        "    \n",
        "\n",
        "    epochs = range(len(train_acc)) \n",
        "\n",
        "    plt.plot(epochs, train_acc)\n",
        "    \n",
        "    plt.legend([\"Training Accuracy\", \"Validation Accuracy\"])\n",
        "    plt.title(\"Training Accuracy and validation accuracy\")\n",
        "    return test_acc\n",
        "\n",
        "test_acc = evaluate_final(default_cv_evaluate_params)\n",
        "print(f\"Final test set accuracy:\\t{test_acc:.6f}\")"
      ],
      "execution_count": null,
      "outputs": [
        {
          "output_type": "stream",
          "name": "stdout",
          "text": [
            "Epoch 1/20\n",
            "18/18 [==============================] - 1s 11ms/step - loss: 0.9103 - accuracy: 0.6097 - val_loss: 0.7290 - val_accuracy: 0.5806\n",
            "Epoch 2/20\n",
            "18/18 [==============================] - 0s 3ms/step - loss: 0.6565 - accuracy: 0.6835 - val_loss: 0.7467 - val_accuracy: 0.5806\n",
            "Epoch 3/20\n",
            "18/18 [==============================] - 0s 3ms/step - loss: 0.6083 - accuracy: 0.7158 - val_loss: 0.6789 - val_accuracy: 0.6935\n",
            "Epoch 4/20\n",
            "18/18 [==============================] - 0s 3ms/step - loss: 0.5996 - accuracy: 0.7302 - val_loss: 0.6717 - val_accuracy: 0.7097\n",
            "Epoch 5/20\n",
            "18/18 [==============================] - 0s 3ms/step - loss: 0.5580 - accuracy: 0.7446 - val_loss: 0.6148 - val_accuracy: 0.7742\n",
            "Epoch 6/20\n",
            "18/18 [==============================] - 0s 3ms/step - loss: 0.5422 - accuracy: 0.7626 - val_loss: 0.6149 - val_accuracy: 0.6935\n",
            "Epoch 7/20\n",
            "18/18 [==============================] - 0s 3ms/step - loss: 0.5036 - accuracy: 0.7680 - val_loss: 0.6139 - val_accuracy: 0.6613\n",
            "Epoch 8/20\n",
            "18/18 [==============================] - 0s 3ms/step - loss: 0.4853 - accuracy: 0.8183 - val_loss: 0.6016 - val_accuracy: 0.7097\n",
            "Epoch 9/20\n",
            "18/18 [==============================] - 0s 3ms/step - loss: 0.4692 - accuracy: 0.7950 - val_loss: 0.5949 - val_accuracy: 0.6935\n",
            "Epoch 10/20\n",
            "18/18 [==============================] - 0s 3ms/step - loss: 0.4528 - accuracy: 0.8129 - val_loss: 0.5907 - val_accuracy: 0.6613\n",
            "Epoch 11/20\n",
            "18/18 [==============================] - 0s 3ms/step - loss: 0.4523 - accuracy: 0.8183 - val_loss: 0.5874 - val_accuracy: 0.6935\n",
            "Epoch 12/20\n",
            "18/18 [==============================] - 0s 3ms/step - loss: 0.4512 - accuracy: 0.8165 - val_loss: 0.5904 - val_accuracy: 0.6613\n",
            "Epoch 13/20\n",
            "18/18 [==============================] - 0s 3ms/step - loss: 0.4579 - accuracy: 0.8058 - val_loss: 0.5859 - val_accuracy: 0.6935\n",
            "Epoch 14/20\n",
            "18/18 [==============================] - 0s 3ms/step - loss: 0.4379 - accuracy: 0.8255 - val_loss: 0.5919 - val_accuracy: 0.6774\n",
            "Epoch 15/20\n",
            "18/18 [==============================] - 0s 3ms/step - loss: 0.4431 - accuracy: 0.8255 - val_loss: 0.5867 - val_accuracy: 0.6774\n",
            "Epoch 16/20\n",
            "18/18 [==============================] - 0s 3ms/step - loss: 0.4406 - accuracy: 0.8219 - val_loss: 0.5854 - val_accuracy: 0.6774\n",
            "Epoch 17/20\n",
            "18/18 [==============================] - 0s 3ms/step - loss: 0.4319 - accuracy: 0.8381 - val_loss: 0.5853 - val_accuracy: 0.6774\n",
            "Epoch 18/20\n",
            "18/18 [==============================] - 0s 3ms/step - loss: 0.4284 - accuracy: 0.8399 - val_loss: 0.5842 - val_accuracy: 0.6774\n",
            "Epoch 19/20\n",
            "18/18 [==============================] - 0s 3ms/step - loss: 0.4272 - accuracy: 0.8435 - val_loss: 0.5844 - val_accuracy: 0.6774\n",
            "Epoch 20/20\n",
            "18/18 [==============================] - 0s 3ms/step - loss: 0.4329 - accuracy: 0.8417 - val_loss: 0.5852 - val_accuracy: 0.6774\n",
            "Final test set accuracy:\t0.703226\n"
          ]
        },
        {
          "output_type": "display_data",
          "data": {
            "image/png": "[encoded data removed]",
            "text/plain": [
              "<Figure size 432x288 with 1 Axes>"
            ]
          },
          "metadata": {
            "needs_background": "light"
          }
        }
      ]
    },
    {
      "cell_type": "code",
      "metadata": {
        "id": "6ze6q9Bvz4-E",
        "colab": {
          "base_uri": "https://localhost:8080/",
          "height": 1000
        },
        "outputId": "27869de8-9ecf-4b34-d2ec-790838c7a159"
      },
      "source": [
        "test_accs = []\n",
        "for _ in tqdm(range(2)):\n",
        "    test_accs.append(evaluate_final(default_cv_evaluate_params))"
      ],
      "execution_count": null,
      "outputs": [
        {
          "output_type": "stream",
          "name": "stderr",
          "text": [
            "\r  0%|          | 0/2 [00:00<?, ?it/s]"
          ]
        },
        {
          "output_type": "stream",
          "name": "stdout",
          "text": [
            "Epoch 1/20\n",
            "18/18 [==============================] - 1s 9ms/step - loss: 0.9186 - accuracy: 0.6061 - val_loss: 0.6917 - val_accuracy: 0.6774\n",
            "Epoch 2/20\n",
            "18/18 [==============================] - 0s 3ms/step - loss: 0.6505 - accuracy: 0.7014 - val_loss: 0.6523 - val_accuracy: 0.6774\n",
            "Epoch 3/20\n",
            "18/18 [==============================] - 0s 3ms/step - loss: 0.6087 - accuracy: 0.7302 - val_loss: 0.6135 - val_accuracy: 0.7258\n",
            "Epoch 4/20\n",
            "18/18 [==============================] - 0s 3ms/step - loss: 0.5873 - accuracy: 0.7464 - val_loss: 0.6338 - val_accuracy: 0.7258\n",
            "Epoch 5/20\n",
            "18/18 [==============================] - 0s 3ms/step - loss: 0.5573 - accuracy: 0.7752 - val_loss: 0.6288 - val_accuracy: 0.6613\n",
            "Epoch 6/20\n",
            "18/18 [==============================] - 0s 3ms/step - loss: 0.5249 - accuracy: 0.7698 - val_loss: 0.6147 - val_accuracy: 0.6613\n",
            "Epoch 7/20\n",
            "18/18 [==============================] - 0s 3ms/step - loss: 0.5331 - accuracy: 0.7698 - val_loss: 0.5821 - val_accuracy: 0.7419\n",
            "Epoch 8/20\n",
            "18/18 [==============================] - 0s 3ms/step - loss: 0.5000 - accuracy: 0.7896 - val_loss: 0.6249 - val_accuracy: 0.6613\n",
            "Epoch 9/20\n",
            "18/18 [==============================] - 0s 3ms/step - loss: 0.4599 - accuracy: 0.8201 - val_loss: 0.6130 - val_accuracy: 0.6935\n",
            "Epoch 10/20\n",
            "18/18 [==============================] - 0s 3ms/step - loss: 0.4655 - accuracy: 0.8219 - val_loss: 0.6048 - val_accuracy: 0.6774\n",
            "Epoch 11/20\n",
            "18/18 [==============================] - 0s 3ms/step - loss: 0.4530 - accuracy: 0.8345 - val_loss: 0.5956 - val_accuracy: 0.6774\n",
            "Epoch 12/20\n",
            "18/18 [==============================] - 0s 3ms/step - loss: 0.4600 - accuracy: 0.8129 - val_loss: 0.5996 - val_accuracy: 0.6935\n",
            "Epoch 13/20\n",
            "18/18 [==============================] - 0s 3ms/step - loss: 0.4452 - accuracy: 0.8147 - val_loss: 0.6014 - val_accuracy: 0.6452\n",
            "Epoch 14/20\n",
            "18/18 [==============================] - 0s 3ms/step - loss: 0.4456 - accuracy: 0.8345 - val_loss: 0.5980 - val_accuracy: 0.6613\n",
            "Epoch 15/20\n",
            "18/18 [==============================] - 0s 3ms/step - loss: 0.4455 - accuracy: 0.8291 - val_loss: 0.6002 - val_accuracy: 0.6452\n",
            "Epoch 16/20\n",
            "18/18 [==============================] - 0s 4ms/step - loss: 0.4421 - accuracy: 0.8255 - val_loss: 0.5987 - val_accuracy: 0.6452\n",
            "Epoch 17/20\n",
            "18/18 [==============================] - 0s 3ms/step - loss: 0.4440 - accuracy: 0.8273 - val_loss: 0.5966 - val_accuracy: 0.6290\n",
            "Epoch 18/20\n",
            "18/18 [==============================] - 0s 3ms/step - loss: 0.4445 - accuracy: 0.8273 - val_loss: 0.5951 - val_accuracy: 0.6452\n",
            "Epoch 19/20\n",
            "18/18 [==============================] - 0s 3ms/step - loss: 0.4314 - accuracy: 0.8309 - val_loss: 0.5943 - val_accuracy: 0.6452\n",
            "Epoch 20/20\n",
            "18/18 [==============================] - 0s 3ms/step - loss: 0.4318 - accuracy: 0.8327 - val_loss: 0.5926 - val_accuracy: 0.6613\n"
          ]
        },
        {
          "output_type": "stream",
          "name": "stderr",
          "text": [
            "\r 50%|█████     | 1/2 [00:03<00:03,  3.01s/it]"
          ]
        },
        {
          "output_type": "stream",
          "name": "stdout",
          "text": [
            "Epoch 1/20\n",
            "18/18 [==============================] - 1s 9ms/step - loss: 0.8404 - accuracy: 0.5899 - val_loss: 0.6977 - val_accuracy: 0.7258\n",
            "Epoch 2/20\n",
            "18/18 [==============================] - 0s 3ms/step - loss: 0.6380 - accuracy: 0.7158 - val_loss: 0.6364 - val_accuracy: 0.7742\n",
            "Epoch 3/20\n",
            "18/18 [==============================] - 0s 3ms/step - loss: 0.6166 - accuracy: 0.7194 - val_loss: 0.7543 - val_accuracy: 0.6129\n",
            "Epoch 4/20\n",
            "18/18 [==============================] - 0s 3ms/step - loss: 0.5737 - accuracy: 0.7464 - val_loss: 0.6437 - val_accuracy: 0.7258\n",
            "Epoch 5/20\n",
            "18/18 [==============================] - 0s 3ms/step - loss: 0.5585 - accuracy: 0.7446 - val_loss: 0.6677 - val_accuracy: 0.6774\n",
            "Epoch 6/20\n",
            "18/18 [==============================] - 0s 3ms/step - loss: 0.5375 - accuracy: 0.7590 - val_loss: 0.6425 - val_accuracy: 0.7581\n",
            "Epoch 7/20\n",
            "18/18 [==============================] - 0s 3ms/step - loss: 0.5220 - accuracy: 0.7806 - val_loss: 0.6365 - val_accuracy: 0.6613\n",
            "Epoch 8/20\n",
            "18/18 [==============================] - 0s 3ms/step - loss: 0.4747 - accuracy: 0.7950 - val_loss: 0.6407 - val_accuracy: 0.6935\n",
            "Epoch 9/20\n",
            "18/18 [==============================] - 0s 3ms/step - loss: 0.4502 - accuracy: 0.8058 - val_loss: 0.6201 - val_accuracy: 0.7097\n",
            "Epoch 10/20\n",
            "18/18 [==============================] - 0s 3ms/step - loss: 0.4417 - accuracy: 0.8129 - val_loss: 0.6201 - val_accuracy: 0.7258\n",
            "Epoch 11/20\n",
            "18/18 [==============================] - 0s 3ms/step - loss: 0.4456 - accuracy: 0.8129 - val_loss: 0.6070 - val_accuracy: 0.7258\n",
            "Epoch 12/20\n",
            "18/18 [==============================] - 0s 3ms/step - loss: 0.4361 - accuracy: 0.8201 - val_loss: 0.6173 - val_accuracy: 0.7258\n",
            "Epoch 13/20\n",
            "18/18 [==============================] - 0s 3ms/step - loss: 0.4374 - accuracy: 0.8327 - val_loss: 0.6141 - val_accuracy: 0.7097\n",
            "Epoch 14/20\n",
            "18/18 [==============================] - 0s 3ms/step - loss: 0.4251 - accuracy: 0.8273 - val_loss: 0.6084 - val_accuracy: 0.7258\n",
            "Epoch 15/20\n",
            "18/18 [==============================] - 0s 3ms/step - loss: 0.4146 - accuracy: 0.8363 - val_loss: 0.6142 - val_accuracy: 0.6935\n",
            "Epoch 16/20\n",
            "18/18 [==============================] - 0s 3ms/step - loss: 0.4154 - accuracy: 0.8489 - val_loss: 0.6132 - val_accuracy: 0.7258\n",
            "Epoch 17/20\n",
            "18/18 [==============================] - 0s 3ms/step - loss: 0.4151 - accuracy: 0.8435 - val_loss: 0.6136 - val_accuracy: 0.7258\n",
            "Epoch 18/20\n",
            "18/18 [==============================] - 0s 3ms/step - loss: 0.4032 - accuracy: 0.8543 - val_loss: 0.6121 - val_accuracy: 0.7258\n",
            "Epoch 19/20\n",
            "18/18 [==============================] - 0s 3ms/step - loss: 0.4018 - accuracy: 0.8471 - val_loss: 0.6118 - val_accuracy: 0.7419\n",
            "Epoch 20/20\n",
            "18/18 [==============================] - 0s 3ms/step - loss: 0.4138 - accuracy: 0.8489 - val_loss: 0.6106 - val_accuracy: 0.7419\n"
          ]
        },
        {
          "output_type": "stream",
          "name": "stderr",
          "text": [
            "100%|██████████| 2/2 [00:04<00:00,  2.37s/it]\n"
          ]
        },
        {
          "output_type": "display_data",
          "data": {
            "image/png": "[encoded data removed]",
            "text/plain": [
              "<Figure size 432x288 with 1 Axes>"
            ]
          },
          "metadata": {
            "needs_background": "light"
          }
        }
      ]
    },
    {
      "cell_type": "code",
      "metadata": {
        "id": "uz1H56NDz47f",
        "colab": {
          "base_uri": "https://localhost:8080/",
          "height": 279
        },
        "outputId": "c8e29ef1-df87-458e-fe83-dffb7272d7d5"
      },
      "source": [
        "plt.hist(test_accs)\n",
        "plt.xlabel(\"Test Set Accuracy\")\n",
        "plt.ylabel(\"Model Count\")\n",
        "plt.show()"
      ],
      "execution_count": null,
      "outputs": [
        {
          "output_type": "display_data",
          "data": {
            "image/png": "[encoded data removed]",
            "text/plain": [
              "<Figure size 432x288 with 1 Axes>"
            ]
          },
          "metadata": {
            "needs_background": "light"
          }
        }
      ]
    }
  ]
}